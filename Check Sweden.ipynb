{
 "metadata": {
  "name": "Check Sweden.ipynb"
 },
 "nbformat": 3,
 "nbformat_minor": 0,
 "worksheets": [
  {
   "cells": [
    {
     "cell_type": "code",
     "collapsed": false,
     "input": [
      "%cd '/Users/tomlynch/IPython/work/data/Sweden'"
     ],
     "language": "python",
     "metadata": {},
     "outputs": [
      {
       "output_type": "stream",
       "stream": "stdout",
       "text": [
        "/Users/tomlynch/IPython/work/data/Sweden\n"
       ]
      }
     ],
     "prompt_number": 1
    },
    {
     "cell_type": "code",
     "collapsed": false,
     "input": [
      "import pandas as pd\n",
      "from IPython.core.display import display, HTML"
     ],
     "language": "python",
     "metadata": {},
     "outputs": [],
     "prompt_number": 2
    },
    {
     "cell_type": "code",
     "collapsed": false,
     "input": [
      "pd.options.display.mpl_style = 'default'"
     ],
     "language": "python",
     "metadata": {},
     "outputs": [],
     "prompt_number": 3
    },
    {
     "cell_type": "markdown",
     "metadata": {},
     "source": [
      "###Data files conform to the following schema:\n",
      "\n",
      "|description|name|start|width|\n",
      "|-|-|-|-|\n",
      "|Sample type, 1=Men, 2=Women|**HHSEX**|1|1|\n",
      "|Person weight (always zero)|**PERWT**|2|1|\n",
      "|Household database-ID (first census)|**PHIDSE_1**|3|10|\n",
      "|Household sequential number|**HHSEQ**|13|4|\n",
      "|Person index within household (first census)|**PERNUM_1**|17|4|\n",
      "|Link type (Values 0,1,5,9)|**LINKTYPE**|21|1|\n",
      "|Person database-ID (first census)|**PIDSE_1**|22|10|\n",
      "|Sex (first census)|**SEX_1**|32|1|\n",
      "|Household database-ID (second census)|**PHIDSE_2**|33|10|\n",
      "|Person index within household (second census)|**PERNUM_2**|43|4|\n",
      "|Person database-ID (second census)|**PIDSE_2**|47|10|\n",
      "|Sex (second census)|**SEX_2**|57|1|\n",
      "|Last name (first census)|**NAMELAST_1**|58|70|\n",
      "|First name (first census)|**NAMEFRST_1**|128|70|\n",
      "|Last name (second census)|**NAMELAST_2**|198|70|\n",
      "|First name (second census)|**NAMEFRST_2**|268|70|\n",
      "|Age (first census)|**AGE_1**|338|3|\n",
      "|Age (second census)|**AGE_2**|341|3|"
     ]
    },
    {
     "cell_type": "markdown",
     "metadata": {},
     "source": [
      "### Per-dataset checks\n",
      "* Verify that primary links appear only once\n",
      "* Verify that loaded dataset size == expected dataset size\n",
      "* Verify that LINKTYPE is in [0, 1, 5, 9]\n",
      "* Verify that SEX_1 is in [1, 2, 8, 9] (or blank)\n",
      "* Verify that SEX_2 is in [1, 2, 8, 9] (or blank)\n",
      "* Verify that AGE_1 is in 0-999 (or blank)\n",
      "* Verify that AGE_2 is in 0-999 (or blank)\n",
      "* Verify that SEX_1 == SEX_2 for records having LINKTYPE in [0, 1, 5]\n",
      "\n",
      "Additionally, print summaries of variable values and display plots of log frequencies of ages 0-100."
     ]
    },
    {
     "cell_type": "code",
     "collapsed": false,
     "input": [
      "def load_data(fn):\n",
      "    HHSEX       = []\n",
      "    PERWT       = []\n",
      "    PHIDSE_1    = []\n",
      "    HHSEQ       = []\n",
      "    PERNUM_1    = []\n",
      "    LINKTYPE    = []\n",
      "    PIDSE_1     = []\n",
      "    SEX_1       = []\n",
      "    PHIDSE_2    = []\n",
      "    PERNUM_2    = []\n",
      "    PIDSE_2     = []\n",
      "    SEX_2       = []\n",
      "    NAMELAST_1  = []\n",
      "    NAMEFRST_1  = []\n",
      "    NAMELAST_2  = []\n",
      "    NAMEFRST_2  = []\n",
      "    AGE_1       = []\n",
      "    AGE_2       = []\n",
      "    \n",
      "    with open(fn) as f:\n",
      "        for line in f:\n",
      "            HHSEX       .append(line[0:1])\n",
      "            PERWT       .append(line[1:2])\n",
      "            PHIDSE_1    .append(line[2:12])\n",
      "            HHSEQ       .append(line[12:16])\n",
      "            PERNUM_1    .append(line[16:20])\n",
      "            LINKTYPE    .append(line[20:21])\n",
      "            PIDSE_1     .append(line[21:31])\n",
      "            SEX_1       .append(line[31:32])\n",
      "            PHIDSE_2    .append(line[32:42])\n",
      "            PERNUM_2    .append(line[42:46])\n",
      "            PIDSE_2     .append(line[46:56])\n",
      "            SEX_2       .append(line[56:57])\n",
      "            NAMELAST_1  .append(line[57:127]    .strip())\n",
      "            NAMEFRST_1  .append(line[127:197]   .strip())\n",
      "            NAMELAST_2  .append(line[197:267]   .strip())\n",
      "            NAMEFRST_2  .append(line[267:337]   .strip())\n",
      "            AGE_1       .append(line[337:340])\n",
      "            AGE_2       .append(line[340:343])\n",
      "\n",
      "    return pd.DataFrame({'HHSEX':HHSEX, 'PERWT':PERWT, 'PHIDSE_1':PHIDSE_1, 'HHSEQ_1':HHSEQ, 'PERNUM_1':PERNUM_1,\n",
      "                         'LINKTYPE':LINKTYPE, 'PIDSE_1':PIDSE_1, 'SEX_1':SEX_1, 'PHIDSE_2':PHIDSE_2, 'PERNUM_2':PERNUM_2,\n",
      "                         'PIDSE_2':PIDSE_2, 'SEX_2': SEX_2, 'NAMELAST_1':NAMELAST_1, 'NAMEFRST_1':NAMEFRST_1,\n",
      "                         'NAMELAST_2':NAMELAST_2, 'NAMEFRST_2':NAMEFRST_2, 'AGE_1':AGE_1, 'AGE_2':AGE_2})"
     ],
     "language": "python",
     "metadata": {},
     "outputs": [],
     "prompt_number": 4
    },
    {
     "cell_type": "markdown",
     "metadata": {},
     "source": [
      "###Load the datasets into variables:\n",
      "* sweden_1880_1890_men\n",
      "* sweden_1880_1900_men\n",
      "* sweden_1890_1900_men\n",
      "* sweden_1880_1890_women\n",
      "* sweden_1880_1900_women\n",
      "* sweden_1890_1900_women"
     ]
    },
    {
     "cell_type": "code",
     "collapsed": false,
     "input": [
      "# Load men\n",
      "sweden_1880_1890_men    = load_data('Sweden_Linked_Samples_1880-1890_Men.txt')\n",
      "sweden_1880_1900_men    = load_data('Sweden_Linked_Samples_1880-1900_Men.txt')\n",
      "sweden_1890_1900_men    = load_data('Sweden_Linked_Samples_1890-1900_Men.txt')\n",
      "# Load women\n",
      "sweden_1880_1890_women  = load_data('Sweden_Linked_Samples_1880-1890_Women.txt')\n",
      "sweden_1880_1900_women  = load_data('Sweden_Linked_Samples_1880-1900_Women.txt')\n",
      "sweden_1890_1900_women  = load_data('Sweden_Linked_Samples_1890-1900_Women.txt')"
     ],
     "language": "python",
     "metadata": {},
     "outputs": [],
     "prompt_number": 5
    },
    {
     "cell_type": "code",
     "collapsed": false,
     "input": [
      "# Create a dictionary of datasets for convenient iteration in tests\n",
      "datasets = {'sweden_1880_1890_men':sweden_1880_1890_men,\n",
      "            'sweden_1880_1900_men':sweden_1880_1900_men,\n",
      "            'sweden_1890_1900_men':sweden_1890_1900_men,\n",
      "            'sweden_1880_1890_women':sweden_1880_1890_women,\n",
      "            'sweden_1880_1900_women':sweden_1880_1900_women,\n",
      "            'sweden_1890_1900_women':sweden_1890_1900_women}"
     ],
     "language": "python",
     "metadata": {},
     "outputs": [],
     "prompt_number": 7
    },
    {
     "cell_type": "code",
     "collapsed": false,
     "input": [
      "# Cast select columns to have numeric values\n",
      "def cast(dataset_name, column_name, expected_width):\n",
      "    spaces = ' ' * expected_width\n",
      "    datasets[dataset_name][column_name] = datasets[dataset_name][column_name].map(lambda s: int(s) if s != spaces and s != '' else '')\n",
      "    print \"cast {}[{}] to have numeric values\".format(dataset_name, column_name)\n",
      "\n",
      "columns_to_cast = {'SEX_1':1,\n",
      "                   'SEX_2':1,\n",
      "                   'LINKTYPE':1,\n",
      "                   'AGE_1':3,\n",
      "                   'AGE_2':3}\n",
      "\n",
      "for dataset_name in datasets.keys():\n",
      "    for column_name, expected_width in columns_to_cast.items():\n",
      "        cast(dataset_name, column_name, expected_width)"
     ],
     "language": "python",
     "metadata": {},
     "outputs": [
      {
       "output_type": "stream",
       "stream": "stdout",
       "text": [
        "cast sweden_1890_1900_men[LINKTYPE] to have numeric values\n",
        "cast sweden_1890_1900_men[AGE_1] to have numeric values"
       ]
      },
      {
       "output_type": "stream",
       "stream": "stdout",
       "text": [
        "\n",
        "cast sweden_1890_1900_men[AGE_2] to have numeric values"
       ]
      },
      {
       "output_type": "stream",
       "stream": "stdout",
       "text": [
        "\n",
        "cast sweden_1890_1900_men[SEX_1] to have numeric values"
       ]
      },
      {
       "output_type": "stream",
       "stream": "stdout",
       "text": [
        "\n",
        "cast sweden_1890_1900_men[SEX_2] to have numeric values"
       ]
      },
      {
       "output_type": "stream",
       "stream": "stdout",
       "text": [
        "\n",
        "cast sweden_1880_1890_women[LINKTYPE] to have numeric values"
       ]
      },
      {
       "output_type": "stream",
       "stream": "stdout",
       "text": [
        "\n",
        "cast sweden_1880_1890_women[AGE_1] to have numeric values"
       ]
      },
      {
       "output_type": "stream",
       "stream": "stdout",
       "text": [
        "\n",
        "cast sweden_1880_1890_women[AGE_2] to have numeric values"
       ]
      },
      {
       "output_type": "stream",
       "stream": "stdout",
       "text": [
        "\n",
        "cast sweden_1880_1890_women[SEX_1] to have numeric values"
       ]
      },
      {
       "output_type": "stream",
       "stream": "stdout",
       "text": [
        "\n",
        "cast sweden_1880_1890_women[SEX_2] to have numeric values"
       ]
      },
      {
       "output_type": "stream",
       "stream": "stdout",
       "text": [
        "\n",
        "cast sweden_1880_1900_women[LINKTYPE] to have numeric values"
       ]
      },
      {
       "output_type": "stream",
       "stream": "stdout",
       "text": [
        "\n",
        "cast sweden_1880_1900_women[AGE_1] to have numeric values"
       ]
      },
      {
       "output_type": "stream",
       "stream": "stdout",
       "text": [
        "\n",
        "cast sweden_1880_1900_women[AGE_2] to have numeric values"
       ]
      },
      {
       "output_type": "stream",
       "stream": "stdout",
       "text": [
        "\n",
        "cast sweden_1880_1900_women[SEX_1] to have numeric values"
       ]
      },
      {
       "output_type": "stream",
       "stream": "stdout",
       "text": [
        "\n",
        "cast sweden_1880_1900_women[SEX_2] to have numeric values"
       ]
      },
      {
       "output_type": "stream",
       "stream": "stdout",
       "text": [
        "\n",
        "cast sweden_1880_1890_men[LINKTYPE] to have numeric values"
       ]
      },
      {
       "output_type": "stream",
       "stream": "stdout",
       "text": [
        "\n",
        "cast sweden_1880_1890_men[AGE_1] to have numeric values"
       ]
      },
      {
       "output_type": "stream",
       "stream": "stdout",
       "text": [
        "\n",
        "cast sweden_1880_1890_men[AGE_2] to have numeric values"
       ]
      },
      {
       "output_type": "stream",
       "stream": "stdout",
       "text": [
        "\n",
        "cast sweden_1880_1890_men[SEX_1] to have numeric values"
       ]
      },
      {
       "output_type": "stream",
       "stream": "stdout",
       "text": [
        "\n",
        "cast sweden_1880_1890_men[SEX_2] to have numeric values"
       ]
      },
      {
       "output_type": "stream",
       "stream": "stdout",
       "text": [
        "\n",
        "cast sweden_1880_1900_men[LINKTYPE] to have numeric values"
       ]
      },
      {
       "output_type": "stream",
       "stream": "stdout",
       "text": [
        "\n",
        "cast sweden_1880_1900_men[AGE_1] to have numeric values"
       ]
      },
      {
       "output_type": "stream",
       "stream": "stdout",
       "text": [
        "\n",
        "cast sweden_1880_1900_men[AGE_2] to have numeric values"
       ]
      },
      {
       "output_type": "stream",
       "stream": "stdout",
       "text": [
        "\n",
        "cast sweden_1880_1900_men[SEX_1] to have numeric values"
       ]
      },
      {
       "output_type": "stream",
       "stream": "stdout",
       "text": [
        "\n",
        "cast sweden_1880_1900_men[SEX_2] to have numeric values"
       ]
      },
      {
       "output_type": "stream",
       "stream": "stdout",
       "text": [
        "\n",
        "cast sweden_1890_1900_women[LINKTYPE] to have numeric values"
       ]
      },
      {
       "output_type": "stream",
       "stream": "stdout",
       "text": [
        "\n",
        "cast sweden_1890_1900_women[AGE_1] to have numeric values"
       ]
      },
      {
       "output_type": "stream",
       "stream": "stdout",
       "text": [
        "\n",
        "cast sweden_1890_1900_women[AGE_2] to have numeric values"
       ]
      },
      {
       "output_type": "stream",
       "stream": "stdout",
       "text": [
        "\n",
        "cast sweden_1890_1900_women[SEX_1] to have numeric values"
       ]
      },
      {
       "output_type": "stream",
       "stream": "stdout",
       "text": [
        "\n",
        "cast sweden_1890_1900_women[SEX_2] to have numeric values"
       ]
      },
      {
       "output_type": "stream",
       "stream": "stdout",
       "text": [
        "\n"
       ]
      }
     ],
     "prompt_number": 10
    },
    {
     "cell_type": "code",
     "collapsed": false,
     "input": [
      "# Verify uniqueness of primary links\n",
      "for dataset_name, dataset in datasets.items():\n",
      "    assert max(dataset[dataset['LINKTYPE'] == 0].groupby(['PHIDSE_1', 'PERNUM_1']).size()) == 1, \\\n",
      "        '{} has primary links with records from the earlier year linked more than once'.format(dataset_name)\n",
      "    assert max(dataset[dataset['LINKTYPE'] == 0].groupby(['PHIDSE_2', 'PERNUM_2']).size()) == 1, \\\n",
      "        '{} has primary links with records from the later year linked more than once'.format(dataset_name)\n",
      "    print \"Verified that records marked as primary links appear only once as primary links in {}...\".format(dataset_name)"
     ],
     "language": "python",
     "metadata": {},
     "outputs": [
      {
       "output_type": "stream",
       "stream": "stdout",
       "text": [
        "Verified that records marked as primary links appear only once as primary links in sweden_1890_1900_men...\n",
        "Verified that records marked as primary links appear only once as primary links in sweden_1880_1890_women..."
       ]
      },
      {
       "output_type": "stream",
       "stream": "stdout",
       "text": [
        "\n",
        "Verified that records marked as primary links appear only once as primary links in sweden_1880_1900_women..."
       ]
      },
      {
       "output_type": "stream",
       "stream": "stdout",
       "text": [
        "\n",
        "Verified that records marked as primary links appear only once as primary links in sweden_1880_1890_men..."
       ]
      },
      {
       "output_type": "stream",
       "stream": "stdout",
       "text": [
        "\n",
        "Verified that records marked as primary links appear only once as primary links in sweden_1880_1900_men..."
       ]
      },
      {
       "output_type": "stream",
       "stream": "stdout",
       "text": [
        "\n",
        "Verified that records marked as primary links appear only once as primary links in sweden_1890_1900_women..."
       ]
      },
      {
       "output_type": "stream",
       "stream": "stdout",
       "text": [
        "\n"
       ]
      }
     ],
     "prompt_number": 201
    },
    {
     "cell_type": "code",
     "collapsed": false,
     "input": [
      "# Verify counts\n",
      "expected_counts = {'sweden_1880_1890_men':12690641,\n",
      "                   'sweden_1880_1900_men':9301744,\n",
      "                   'sweden_1890_1900_men':13275953,\n",
      "                   'sweden_1880_1890_women':10763434,\n",
      "                   'sweden_1880_1900_women':8931867,\n",
      "                   'sweden_1890_1900_women':11948988}\n",
      "\n",
      "for dataset_name, expected_count in expected_counts.items():\n",
      "    assert len(datasets[dataset_name]) == expected_count, \\\n",
      "           'the number of records in {} is not {}'.format(dataset_name, expected_count)\n",
      "    print \"Verified that {} has {} records...\".format(dataset_name, expected_count)`"
     ],
     "language": "python",
     "metadata": {},
     "outputs": [
      {
       "output_type": "stream",
       "stream": "stdout",
       "text": [
        "Verified that sweden_1890_1900_men has 13275953 records...\n",
        "Verified that sweden_1880_1890_women has 10763434 records...\n",
        "Verified that sweden_1880_1900_women has 8931867 records...\n",
        "Verified that sweden_1880_1890_men has 12690641 records...\n",
        "Verified that sweden_1880_1900_men has 9301744 records...\n",
        "Verified that sweden_1890_1900_women has 11948988 records...\n"
       ]
      }
     ],
     "prompt_number": 126
    },
    {
     "cell_type": "code",
     "collapsed": false,
     "input": [
      "def verify_column_values(column_name, verification_function):\n",
      "    for dataset_name, dataset in datasets.items():\n",
      "        assert dataset[column_name].value_counts().index.map(verification_function).all(), \\\n",
      "           \"{} failed a value check on column {}\".format(dataset_name, column_name)\n",
      "        print \"Verified values of {} in {}...\".format(column_name, dataset_name)"
     ],
     "language": "python",
     "metadata": {},
     "outputs": [],
     "prompt_number": 159
    },
    {
     "cell_type": "code",
     "collapsed": false,
     "input": [
      "# Verify that each value of LINKTYPE is in [0, 1, 5, 9]\n",
      "verify_column_values('LINKTYPE', lambda linktype: linktype in [0, 1, 5, 9])\n",
      "\n",
      "# Verify that each value of SEX_[12] is in [1, 2, 8, 9] or is blank\n",
      "verify_sex_values = lambda sex: sex in [1, 2, 8, 9, '']\n",
      "verify_column_values('SEX_1', verify_sex_values)\n",
      "verify_column_values('SEX_2', verify_sex_values)\n",
      "\n",
      "# Verify that each value of AGE_[12] is in 0-999 or is blank\n",
      "verify_age_values = lambda age: age == '' or (type(age) == type(0) and age >= 0 and age <= 999)\n",
      "verify_column_values('AGE_1', verify_age_values)\n",
      "verify_column_values('AGE_2', verify_age_values)"
     ],
     "language": "python",
     "metadata": {},
     "outputs": [
      {
       "output_type": "stream",
       "stream": "stdout",
       "text": [
        "Verified values of LINKTYPE in sweden_1890_1900_men...\n",
        "Verified values of LINKTYPE in sweden_1880_1890_women..."
       ]
      },
      {
       "output_type": "stream",
       "stream": "stdout",
       "text": [
        "\n",
        "Verified values of LINKTYPE in sweden_1880_1900_women..."
       ]
      },
      {
       "output_type": "stream",
       "stream": "stdout",
       "text": [
        "\n",
        "Verified values of LINKTYPE in sweden_1880_1890_men..."
       ]
      },
      {
       "output_type": "stream",
       "stream": "stdout",
       "text": [
        "\n",
        "Verified values of LINKTYPE in sweden_1880_1900_men..."
       ]
      },
      {
       "output_type": "stream",
       "stream": "stdout",
       "text": [
        "\n",
        "Verified values of LINKTYPE in sweden_1890_1900_women..."
       ]
      },
      {
       "output_type": "stream",
       "stream": "stdout",
       "text": [
        "\n",
        "Verified values of SEX_1 in sweden_1890_1900_men..."
       ]
      },
      {
       "output_type": "stream",
       "stream": "stdout",
       "text": [
        "\n",
        "Verified values of SEX_1 in sweden_1880_1890_women..."
       ]
      },
      {
       "output_type": "stream",
       "stream": "stdout",
       "text": [
        "\n",
        "Verified values of SEX_1 in sweden_1880_1900_women..."
       ]
      },
      {
       "output_type": "stream",
       "stream": "stdout",
       "text": [
        "\n",
        "Verified values of SEX_1 in sweden_1880_1890_men..."
       ]
      },
      {
       "output_type": "stream",
       "stream": "stdout",
       "text": [
        "\n",
        "Verified values of SEX_1 in sweden_1880_1900_men..."
       ]
      },
      {
       "output_type": "stream",
       "stream": "stdout",
       "text": [
        "\n",
        "Verified values of SEX_1 in sweden_1890_1900_women..."
       ]
      },
      {
       "output_type": "stream",
       "stream": "stdout",
       "text": [
        "\n",
        "Verified values of SEX_2 in sweden_1890_1900_men..."
       ]
      },
      {
       "output_type": "stream",
       "stream": "stdout",
       "text": [
        "\n",
        "Verified values of SEX_2 in sweden_1880_1890_women..."
       ]
      },
      {
       "output_type": "stream",
       "stream": "stdout",
       "text": [
        "\n",
        "Verified values of SEX_2 in sweden_1880_1900_women..."
       ]
      },
      {
       "output_type": "stream",
       "stream": "stdout",
       "text": [
        "\n",
        "Verified values of SEX_2 in sweden_1880_1890_men..."
       ]
      },
      {
       "output_type": "stream",
       "stream": "stdout",
       "text": [
        "\n",
        "Verified values of SEX_2 in sweden_1880_1900_men..."
       ]
      },
      {
       "output_type": "stream",
       "stream": "stdout",
       "text": [
        "\n",
        "Verified values of SEX_2 in sweden_1890_1900_women..."
       ]
      },
      {
       "output_type": "stream",
       "stream": "stdout",
       "text": [
        "\n",
        "Verified values of AGE_1 in sweden_1890_1900_men..."
       ]
      },
      {
       "output_type": "stream",
       "stream": "stdout",
       "text": [
        "\n",
        "Verified values of AGE_1 in sweden_1880_1890_women..."
       ]
      },
      {
       "output_type": "stream",
       "stream": "stdout",
       "text": [
        "\n",
        "Verified values of AGE_1 in sweden_1880_1900_women..."
       ]
      },
      {
       "output_type": "stream",
       "stream": "stdout",
       "text": [
        "\n",
        "Verified values of AGE_1 in sweden_1880_1890_men..."
       ]
      },
      {
       "output_type": "stream",
       "stream": "stdout",
       "text": [
        "\n",
        "Verified values of AGE_1 in sweden_1880_1900_men..."
       ]
      },
      {
       "output_type": "stream",
       "stream": "stdout",
       "text": [
        "\n",
        "Verified values of AGE_1 in sweden_1890_1900_women..."
       ]
      },
      {
       "output_type": "stream",
       "stream": "stdout",
       "text": [
        "\n",
        "Verified values of AGE_2 in sweden_1890_1900_men..."
       ]
      },
      {
       "output_type": "stream",
       "stream": "stdout",
       "text": [
        "\n",
        "Verified values of AGE_2 in sweden_1880_1890_women..."
       ]
      },
      {
       "output_type": "stream",
       "stream": "stdout",
       "text": [
        "\n",
        "Verified values of AGE_2 in sweden_1880_1900_women..."
       ]
      },
      {
       "output_type": "stream",
       "stream": "stdout",
       "text": [
        "\n",
        "Verified values of AGE_2 in sweden_1880_1890_men..."
       ]
      },
      {
       "output_type": "stream",
       "stream": "stdout",
       "text": [
        "\n",
        "Verified values of AGE_2 in sweden_1880_1900_men..."
       ]
      },
      {
       "output_type": "stream",
       "stream": "stdout",
       "text": [
        "\n",
        "Verified values of AGE_2 in sweden_1890_1900_women..."
       ]
      },
      {
       "output_type": "stream",
       "stream": "stdout",
       "text": [
        "\n"
       ]
      }
     ],
     "prompt_number": 161
    },
    {
     "cell_type": "code",
     "collapsed": false,
     "input": [
      "# Verify that SEX_1 == SEX_2 for LINKTYPE in [0, 1, 5]\n",
      "for dataset_name, dataset in datasets.items():\n",
      "    assert len(dataset[(dataset['LINKTYPE'].map(lambda lt: lt in [0, 1, 5])) & (dataset['SEX_1'] != dataset['SEX_2'])]) == 0, \\\n",
      "           'One or more links have non-matching SEX values in {}'.format(dataset_name)\n",
      "    print \"Verified that SEX_1 == SEX_2 for all records having LINKTYPE in [0, 1, 5] in {}...\".format(dataset_name)"
     ],
     "language": "python",
     "metadata": {},
     "outputs": [
      {
       "output_type": "stream",
       "stream": "stdout",
       "text": [
        "Verified that SEX_1 == SEX_2 for all records having LINKTYPE in [0, 1, 5] in sweden_1890_1900_men...\n",
        "Verified that SEX_1 == SEX_2 for all records having LINKTYPE in [0, 1, 5] in sweden_1880_1890_women..."
       ]
      },
      {
       "output_type": "stream",
       "stream": "stdout",
       "text": [
        "\n",
        "Verified that SEX_1 == SEX_2 for all records having LINKTYPE in [0, 1, 5] in sweden_1880_1900_women..."
       ]
      },
      {
       "output_type": "stream",
       "stream": "stdout",
       "text": [
        "\n",
        "Verified that SEX_1 == SEX_2 for all records having LINKTYPE in [0, 1, 5] in sweden_1880_1890_men..."
       ]
      },
      {
       "output_type": "stream",
       "stream": "stdout",
       "text": [
        "\n",
        "Verified that SEX_1 == SEX_2 for all records having LINKTYPE in [0, 1, 5] in sweden_1880_1900_men..."
       ]
      },
      {
       "output_type": "stream",
       "stream": "stdout",
       "text": [
        "\n",
        "Verified that SEX_1 == SEX_2 for all records having LINKTYPE in [0, 1, 5] in sweden_1890_1900_women..."
       ]
      },
      {
       "output_type": "stream",
       "stream": "stdout",
       "text": [
        "\n"
       ]
      }
     ],
     "prompt_number": 206
    },
    {
     "cell_type": "markdown",
     "metadata": {},
     "source": [
      "### Summarize the data"
     ]
    },
    {
     "cell_type": "code",
     "collapsed": false,
     "input": [
      "for dataset_name, dataset in datasets.items():\n",
      "    display(HTML('<h4>Summary of values for {}</h4>'.format(dataset_name)))\n",
      "    print dataset.groupby(['LINKTYPE', 'SEX_1', 'SEX_2'], as_index=False).size()\n",
      "    AGE_1 = filter(lambda a: True if a != '' else False, dataset['AGE_1'])\n",
      "    AGE_2 = filter(lambda a: True if a != '' else False, dataset['AGE_2'])\n",
      "    has_ages = dataset[(dataset['AGE_1'].map(lambda age: age != '')) &\n",
      "                       (dataset['AGE_2'].map(lambda age: age != ''))]\n",
      "    age_differences = has_ages['AGE_1'] - has_ages['AGE_2']\n",
      "    age_differences = age_differences.map(abs)\n",
      "    print \"Minimum AGE_1 in {}: {}\".format(dataset_name, min(AGE_1))\n",
      "    print \"Maximum AGE_1 in {}: {}\".format(dataset_name, max(AGE_1))\n",
      "    print \"Mean AGE_1 in {}: {}\".format(dataset_name, mean(AGE_1))\n",
      "    print \"Median AGE_1 in {}: {}\".format(dataset_name, median(AGE_1))\n",
      "    print \"Minimum AGE_2 in {}: {}\".format(dataset_name, min(AGE_2))\n",
      "    print \"Maximum AGE_2 in {}: {}\".format(dataset_name, max(AGE_2))\n",
      "    print \"Mean AGE_2 in {}: {}\".format(dataset_name, mean(AGE_2))\n",
      "    print \"Median AGE_2 in {}: {}\".format(dataset_name, median(AGE_2))\n",
      "    print \"Minimum age difference for LINKTYPE=0 in {}: {}\".format(dataset_name, min(age_differences))\n",
      "    print \"Maximum age difference for LINKTYPE=0 in {}: {}\".format(dataset_name, max(age_differences))\n",
      "    print \"Mean age difference for LINKTYPE=0 in {}: {}\".format(dataset_name, mean(age_differences))"
     ],
     "language": "python",
     "metadata": {},
     "outputs": [
      {
       "html": [
        "<h4>Summary of values for sweden_1890_1900_men</h4>"
       ],
       "metadata": {},
       "output_type": "display_data",
       "text": [
        "<IPython.core.display.HTML at 0x5a6ed1b10>"
       ]
      },
      {
       "output_type": "stream",
       "stream": "stdout",
       "text": [
        "LINKTYPE  SEX_1  SEX_2\n",
        "0         1      1        1393166\n",
        "1         1      1        2946138\n",
        "          2      2        2514431\n",
        "5         1      1          93136\n",
        "          2      2         167799\n",
        "9         1               1535531\n",
        "          2                924742\n",
        "          8                   613\n",
        "          9                     7\n",
        "                 1        1896762\n",
        "                 2        1803273\n",
        "                 8            355\n",
        "dtype: int64\n",
        "Minimum AGE_1 in sweden_1890_1900_men: 0"
       ]
      },
      {
       "output_type": "stream",
       "stream": "stdout",
       "text": [
        "\n",
        "Maximum AGE_1 in sweden_1890_1900_men: 999"
       ]
      },
      {
       "output_type": "stream",
       "stream": "stdout",
       "text": [
        "\n",
        "Mean AGE_1 in sweden_1890_1900_men: 24.7271652852"
       ]
      },
      {
       "output_type": "stream",
       "stream": "stdout",
       "text": [
        "\n",
        "Median AGE_1 in sweden_1890_1900_men: 20.0"
       ]
      },
      {
       "output_type": "stream",
       "stream": "stdout",
       "text": [
        "\n",
        "Minimum AGE_2 in sweden_1890_1900_men: 0"
       ]
      },
      {
       "output_type": "stream",
       "stream": "stdout",
       "text": [
        "\n",
        "Maximum AGE_2 in sweden_1890_1900_men: 999"
       ]
      },
      {
       "output_type": "stream",
       "stream": "stdout",
       "text": [
        "\n",
        "Mean AGE_2 in sweden_1890_1900_men: 28.039790897"
       ]
      },
      {
       "output_type": "stream",
       "stream": "stdout",
       "text": [
        "\n",
        "Median AGE_2 in sweden_1890_1900_men: 21.0"
       ]
      },
      {
       "output_type": "stream",
       "stream": "stdout",
       "text": [
        "\n",
        "Minimum age difference for LINKTYPE=0 in sweden_1890_1900_men: 10"
       ]
      },
      {
       "output_type": "stream",
       "stream": "stdout",
       "text": [
        "\n",
        "Maximum age difference for LINKTYPE=0 in sweden_1890_1900_men: 990"
       ]
      },
      {
       "output_type": "stream",
       "stream": "stdout",
       "text": [
        "\n",
        "Mean age difference for LINKTYPE=0 in sweden_1890_1900_men: 10.0047397348\n"
       ]
      },
      {
       "html": [
        "<h4>Summary of values for sweden_1880_1890_women</h4>"
       ],
       "metadata": {},
       "output_type": "display_data",
       "text": [
        "<IPython.core.display.HTML at 0x5807b36d0>"
       ]
      },
      {
       "output_type": "stream",
       "stream": "stdout",
       "text": [
        "LINKTYPE  SEX_1  SEX_2\n",
        "0         2      2        1247915\n",
        "1         1      1        2109778\n",
        "          2      2        1842904\n",
        "5         1      1         169280\n",
        "          2      2         150336\n",
        "9         1                957762\n",
        "          2               1099667\n",
        "          8                    12\n",
        "                 1        1546499\n",
        "                 2        1638740\n",
        "                 8            533\n",
        "                 9              8\n",
        "dtype: int64\n",
        "Minimum AGE_1 in sweden_1880_1890_women: 0"
       ]
      },
      {
       "output_type": "stream",
       "stream": "stdout",
       "text": [
        "\n",
        "Maximum AGE_1 in sweden_1880_1890_women: 999"
       ]
      },
      {
       "output_type": "stream",
       "stream": "stdout",
       "text": [
        "\n",
        "Mean AGE_1 in sweden_1880_1890_women: 27.0991172202"
       ]
      },
      {
       "output_type": "stream",
       "stream": "stdout",
       "text": [
        "\n",
        "Median AGE_1 in sweden_1880_1890_women: 21.0"
       ]
      },
      {
       "output_type": "stream",
       "stream": "stdout",
       "text": [
        "\n",
        "Minimum AGE_2 in sweden_1880_1890_women: 0"
       ]
      },
      {
       "output_type": "stream",
       "stream": "stdout",
       "text": [
        "\n",
        "Maximum AGE_2 in sweden_1880_1890_women: 999"
       ]
      },
      {
       "output_type": "stream",
       "stream": "stdout",
       "text": [
        "\n",
        "Mean AGE_2 in sweden_1880_1890_women: 28.6745439127"
       ]
      },
      {
       "output_type": "stream",
       "stream": "stdout",
       "text": [
        "\n",
        "Median AGE_2 in sweden_1880_1890_women: 23.0"
       ]
      },
      {
       "output_type": "stream",
       "stream": "stdout",
       "text": [
        "\n",
        "Minimum age difference for LINKTYPE=0 in sweden_1880_1890_women: 0"
       ]
      },
      {
       "output_type": "stream",
       "stream": "stdout",
       "text": [
        "\n",
        "Maximum age difference for LINKTYPE=0 in sweden_1880_1890_women: 990"
       ]
      },
      {
       "output_type": "stream",
       "stream": "stdout",
       "text": [
        "\n",
        "Mean age difference for LINKTYPE=0 in sweden_1880_1890_women: 10.0031195555\n"
       ]
      },
      {
       "html": [
        "<h4>Summary of values for sweden_1880_1900_women</h4>"
       ],
       "metadata": {},
       "output_type": "display_data",
       "text": [
        "<IPython.core.display.HTML at 0x5a6ed1b10>"
       ]
      },
      {
       "output_type": "stream",
       "stream": "stdout",
       "text": [
        "LINKTYPE  SEX_1  SEX_2\n",
        "0         2      2         926137\n",
        "1         1      1        1291414\n",
        "          2      2        1073760\n",
        "5         1      1          79810\n",
        "          2      2          59860\n",
        "9         1               1081520\n",
        "          2               1022544\n",
        "          8                    13\n",
        "                 1        1577020\n",
        "                 2        1819538\n",
        "                 8            251\n",
        "dtype: int64\n",
        "Minimum AGE_1 in sweden_1880_1900_women: 0"
       ]
      },
      {
       "output_type": "stream",
       "stream": "stdout",
       "text": [
        "\n",
        "Maximum AGE_1 in sweden_1880_1900_women: 999"
       ]
      },
      {
       "output_type": "stream",
       "stream": "stdout",
       "text": [
        "\n",
        "Mean AGE_1 in sweden_1880_1900_women: 24.7483827631"
       ]
      },
      {
       "output_type": "stream",
       "stream": "stdout",
       "text": [
        "\n",
        "Median AGE_1 in sweden_1880_1900_women: 20.0"
       ]
      },
      {
       "output_type": "stream",
       "stream": "stdout",
       "text": [
        "\n",
        "Minimum AGE_2 in sweden_1880_1900_women: 0"
       ]
      },
      {
       "output_type": "stream",
       "stream": "stdout",
       "text": [
        "\n",
        "Maximum AGE_2 in sweden_1880_1900_women: 999"
       ]
      },
      {
       "output_type": "stream",
       "stream": "stdout",
       "text": [
        "\n",
        "Mean AGE_2 in sweden_1880_1900_women: 36.2182748863"
       ]
      },
      {
       "output_type": "stream",
       "stream": "stdout",
       "text": [
        "\n",
        "Median AGE_2 in sweden_1880_1900_women: 28.0"
       ]
      },
      {
       "output_type": "stream",
       "stream": "stdout",
       "text": [
        "\n",
        "Minimum age difference for LINKTYPE=0 in sweden_1880_1900_women: 20"
       ]
      },
      {
       "output_type": "stream",
       "stream": "stdout",
       "text": [
        "\n",
        "Maximum age difference for LINKTYPE=0 in sweden_1880_1900_women: 980"
       ]
      },
      {
       "output_type": "stream",
       "stream": "stdout",
       "text": [
        "\n",
        "Mean age difference for LINKTYPE=0 in sweden_1880_1900_women: 20.0045036296\n"
       ]
      },
      {
       "html": [
        "<h4>Summary of values for sweden_1880_1890_men</h4>"
       ],
       "metadata": {},
       "output_type": "display_data",
       "text": [
        "<IPython.core.display.HTML at 0x5807b3810>"
       ]
      },
      {
       "output_type": "stream",
       "stream": "stdout",
       "text": [
        "LINKTYPE  SEX_1  SEX_2\n",
        "0         1      1        1221028\n",
        "1         1      1        2229608\n",
        "          2      2        2109778\n",
        "5         1      1          88465\n",
        "          2      2         154497\n",
        "9         1               1329455\n",
        "          2                963580\n",
        "          8                    15\n",
        "                 1        2948218\n",
        "                 2        1645397\n",
        "                 8            594\n",
        "                 9              6\n",
        "dtype: int64\n",
        "Minimum AGE_1 in sweden_1880_1890_men: 0"
       ]
      },
      {
       "output_type": "stream",
       "stream": "stdout",
       "text": [
        "\n",
        "Maximum AGE_1 in sweden_1880_1890_men: 999"
       ]
      },
      {
       "output_type": "stream",
       "stream": "stdout",
       "text": [
        "\n",
        "Mean AGE_1 in sweden_1880_1890_men: 24.7282860363"
       ]
      },
      {
       "output_type": "stream",
       "stream": "stdout",
       "text": [
        "\n",
        "Median AGE_1 in sweden_1880_1890_men: 21.0"
       ]
      },
      {
       "output_type": "stream",
       "stream": "stdout",
       "text": [
        "\n",
        "Minimum AGE_2 in sweden_1880_1890_men: 0"
       ]
      },
      {
       "output_type": "stream",
       "stream": "stdout",
       "text": [
        "\n",
        "Maximum AGE_2 in sweden_1880_1890_men: 999"
       ]
      },
      {
       "output_type": "stream",
       "stream": "stdout",
       "text": [
        "\n",
        "Mean AGE_2 in sweden_1880_1890_men: 26.4435307158"
       ]
      },
      {
       "output_type": "stream",
       "stream": "stdout",
       "text": [
        "\n",
        "Median AGE_2 in sweden_1880_1890_men: 21.0"
       ]
      },
      {
       "output_type": "stream",
       "stream": "stdout",
       "text": [
        "\n",
        "Minimum age difference for LINKTYPE=0 in sweden_1880_1890_men: 0"
       ]
      },
      {
       "output_type": "stream",
       "stream": "stdout",
       "text": [
        "\n",
        "Maximum age difference for LINKTYPE=0 in sweden_1880_1890_men: 990"
       ]
      },
      {
       "output_type": "stream",
       "stream": "stdout",
       "text": [
        "\n",
        "Mean age difference for LINKTYPE=0 in sweden_1880_1890_men: 10.0033333561\n"
       ]
      },
      {
       "html": [
        "<h4>Summary of values for sweden_1880_1900_men</h4>"
       ],
       "metadata": {},
       "output_type": "display_data",
       "text": [
        "<IPython.core.display.HTML at 0x5a6ed1b50>"
       ]
      },
      {
       "output_type": "stream",
       "stream": "stdout",
       "text": [
        "LINKTYPE  SEX_1  SEX_2\n",
        "0         1      1         919434\n",
        "1         1      1        1342908\n",
        "          2      2        1291414\n",
        "5         1      1          39626\n",
        "          2      2          86436\n",
        "9         1               1385313\n",
        "          2               1061631\n",
        "          8                    12\n",
        "                 1        1512016\n",
        "                 2        1662678\n",
        "                 8            276\n",
        "dtype: int64\n",
        "Minimum AGE_1 in sweden_1880_1900_men: 0"
       ]
      },
      {
       "output_type": "stream",
       "stream": "stdout",
       "text": [
        "\n",
        "Maximum AGE_1 in sweden_1880_1900_men: 999"
       ]
      },
      {
       "output_type": "stream",
       "stream": "stdout",
       "text": [
        "\n",
        "Mean AGE_1 in sweden_1880_1900_men: 23.9883245245"
       ]
      },
      {
       "output_type": "stream",
       "stream": "stdout",
       "text": [
        "\n",
        "Median AGE_1 in sweden_1880_1900_men: 21.0"
       ]
      },
      {
       "output_type": "stream",
       "stream": "stdout",
       "text": [
        "\n",
        "Minimum AGE_2 in sweden_1880_1900_men: 0"
       ]
      },
      {
       "output_type": "stream",
       "stream": "stdout",
       "text": [
        "\n",
        "Maximum AGE_2 in sweden_1880_1900_men: 999"
       ]
      },
      {
       "output_type": "stream",
       "stream": "stdout",
       "text": [
        "\n",
        "Mean AGE_2 in sweden_1880_1900_men: 30.2310626362"
       ]
      },
      {
       "output_type": "stream",
       "stream": "stdout",
       "text": [
        "\n",
        "Median AGE_2 in sweden_1880_1900_men: 22.0"
       ]
      },
      {
       "output_type": "stream",
       "stream": "stdout",
       "text": [
        "\n",
        "Minimum age difference for LINKTYPE=0 in sweden_1880_1900_men: 20"
       ]
      },
      {
       "output_type": "stream",
       "stream": "stdout",
       "text": [
        "\n",
        "Maximum age difference for LINKTYPE=0 in sweden_1880_1900_men: 980"
       ]
      },
      {
       "output_type": "stream",
       "stream": "stdout",
       "text": [
        "\n",
        "Mean age difference for LINKTYPE=0 in sweden_1880_1900_men: 20.0036728978\n"
       ]
      },
      {
       "html": [
        "<h4>Summary of values for sweden_1890_1900_women</h4>"
       ],
       "metadata": {},
       "output_type": "display_data",
       "text": [
        "<IPython.core.display.HTML at 0x5807b3510>"
       ]
      },
      {
       "output_type": "stream",
       "stream": "stdout",
       "text": [
        "LINKTYPE  SEX_1  SEX_2\n",
        "0         2      2        1393070\n",
        "1         1      1        2514431\n",
        "          2      2        2065142\n",
        "5         1      1         175836\n",
        "          2      2         155414\n",
        "9         1                845719\n",
        "          2                886148\n",
        "          8                   580\n",
        "          9                     6\n",
        "                 1        1701089\n",
        "                 2        2211228\n",
        "                 8            325\n",
        "dtype: int64\n",
        "Minimum AGE_1 in sweden_1890_1900_women: 0"
       ]
      },
      {
       "output_type": "stream",
       "stream": "stdout",
       "text": [
        "\n",
        "Maximum AGE_1 in sweden_1890_1900_women: 999"
       ]
      },
      {
       "output_type": "stream",
       "stream": "stdout",
       "text": [
        "\n",
        "Mean AGE_1 in sweden_1890_1900_women: 25.6823202983"
       ]
      },
      {
       "output_type": "stream",
       "stream": "stdout",
       "text": [
        "\n",
        "Median AGE_1 in sweden_1890_1900_women: 20.0"
       ]
      },
      {
       "output_type": "stream",
       "stream": "stdout",
       "text": [
        "\n",
        "Minimum AGE_2 in sweden_1890_1900_women: 0"
       ]
      },
      {
       "output_type": "stream",
       "stream": "stdout",
       "text": [
        "\n",
        "Maximum AGE_2 in sweden_1890_1900_women: 999"
       ]
      },
      {
       "output_type": "stream",
       "stream": "stdout",
       "text": [
        "\n",
        "Mean AGE_2 in sweden_1890_1900_women: 34.5850633728"
       ]
      },
      {
       "output_type": "stream",
       "stream": "stdout",
       "text": [
        "\n",
        "Median AGE_2 in sweden_1890_1900_women: 26.0"
       ]
      },
      {
       "output_type": "stream",
       "stream": "stdout",
       "text": [
        "\n",
        "Minimum age difference for LINKTYPE=0 in sweden_1890_1900_women: 10"
       ]
      },
      {
       "output_type": "stream",
       "stream": "stdout",
       "text": [
        "\n",
        "Maximum age difference for LINKTYPE=0 in sweden_1890_1900_women: 990"
       ]
      },
      {
       "output_type": "stream",
       "stream": "stdout",
       "text": [
        "\n",
        "Mean age difference for LINKTYPE=0 in sweden_1890_1900_women: 10.0039783799\n"
       ]
      }
     ],
     "prompt_number": 18
    },
    {
     "cell_type": "code",
     "collapsed": false,
     "input": [
      "def log_counts(dataset_name, column_name):\n",
      "    datasets[dataset_name]\n",
      "    age_counts = pd.Series(sorted(filter(lambda a: True if a != '' and a <= 100 else False,\n",
      "                                         dataset[column_name]))).value_counts()\n",
      "    return pd.Series(map(np.log, age_counts), index=age_counts.index).sort_index()"
     ],
     "language": "python",
     "metadata": {},
     "outputs": [],
     "prompt_number": 24
    },
    {
     "cell_type": "code",
     "collapsed": false,
     "input": [
      "display(HTML('<h4>Plot of log counts of AGE_1 for sweden_1880_1890_men</h4>'))\n",
      "log_counts('sweden_1880_1890_men', 'AGE_1').plot()"
     ],
     "language": "python",
     "metadata": {},
     "outputs": [
      {
       "html": [
        "<h4>Plot of log counts of AGE_1 for sweden_1880_1890_men</h4>"
       ],
       "metadata": {},
       "output_type": "display_data",
       "text": [
        "<IPython.core.display.HTML at 0x5807b3450>"
       ]
      },
      {
       "metadata": {},
       "output_type": "pyout",
       "prompt_number": 25,
       "text": [
        "<matplotlib.axes.AxesSubplot at 0x5807b3a90>"
       ]
      },
      {
       "metadata": {},
       "output_type": "display_data",
       "png": "[encoded data removed]",
       "text": [
        "<matplotlib.figure.Figure at 0x5807b33d0>"
       ]
      }
     ],
     "prompt_number": 25
    },
    {
     "cell_type": "code",
     "collapsed": false,
     "input": [
      "display(HTML('<h4>Plot of log counts of AGE_2 for sweden_1880_1890_men</h4>'))\n",
      "log_counts('sweden_1880_1890_men', 'AGE_2').plot()"
     ],
     "language": "python",
     "metadata": {},
     "outputs": [
      {
       "html": [
        "<h4>Plot of log counts of AGE_2 for sweden_1880_1890_men</h4>"
       ],
       "metadata": {},
       "output_type": "display_data",
       "text": [
        "<IPython.core.display.HTML at 0x5a71866d0>"
       ]
      },
      {
       "metadata": {},
       "output_type": "pyout",
       "prompt_number": 26,
       "text": [
        "<matplotlib.axes.AxesSubplot at 0x5850d20d0>"
       ]
      },
      {
       "metadata": {},
       "output_type": "display_data",
       "png": "[encoded data removed]",
       "text": [
        "<matplotlib.figure.Figure at 0x5a7186150>"
       ]
      }
     ],
     "prompt_number": 26
    },
    {
     "cell_type": "code",
     "collapsed": false,
     "input": [
      "display(HTML('<h4>Plot of log counts of AGE_1 for sweden_1880_1890_women</h4>'))\n",
      "log_counts('sweden_1880_1890_women', 'AGE_1').plot()"
     ],
     "language": "python",
     "metadata": {},
     "outputs": [
      {
       "html": [
        "<h4>Plot of log counts of AGE_1 for sweden_1880_1890_women</h4>"
       ],
       "metadata": {},
       "output_type": "display_data",
       "text": [
        "<IPython.core.display.HTML at 0x55d8b0e10>"
       ]
      },
      {
       "metadata": {},
       "output_type": "pyout",
       "prompt_number": 27,
       "text": [
        "<matplotlib.axes.AxesSubplot at 0x561b5ff90>"
       ]
      },
      {
       "metadata": {},
       "output_type": "display_data",
       "png": "[encoded data removed]",
       "text": [
        "<matplotlib.figure.Figure at 0x5b46faf50>"
       ]
      }
     ],
     "prompt_number": 27
    },
    {
     "cell_type": "code",
     "collapsed": false,
     "input": [
      "display(HTML('<h4>Plot of log counts of AGE_2 for sweden_1880_1890_women</h4>'))\n",
      "log_counts('sweden_1880_1890_women', 'AGE_2').plot()"
     ],
     "language": "python",
     "metadata": {},
     "outputs": [
      {
       "html": [
        "<h4>Plot of log counts of AGE_2 for sweden_1880_1890_women</h4>"
       ],
       "metadata": {},
       "output_type": "display_data",
       "text": [
        "<IPython.core.display.HTML at 0x5422fd850>"
       ]
      },
      {
       "metadata": {},
       "output_type": "pyout",
       "prompt_number": 28,
       "text": [
        "<matplotlib.axes.AxesSubplot at 0x5b0a5cd50>"
       ]
      },
      {
       "metadata": {},
       "output_type": "display_data",
       "png": "[encoded data removed]",
       "text": [
        "<matplotlib.figure.Figure at 0x58f928590>"
       ]
      }
     ],
     "prompt_number": 28
    },
    {
     "cell_type": "code",
     "collapsed": false,
     "input": [
      "display(HTML('<h4>Plot of log counts of AGE_1 for sweden_1880_1900_men</h4>'))\n",
      "log_counts('sweden_1880_1900_men', 'AGE_1').plot()"
     ],
     "language": "python",
     "metadata": {},
     "outputs": [
      {
       "html": [
        "<h4>Plot of log counts of AGE_1 for sweden_1880_1900_men</h4>"
       ],
       "metadata": {},
       "output_type": "display_data",
       "text": [
        "<IPython.core.display.HTML at 0x58093a110>"
       ]
      },
      {
       "metadata": {},
       "output_type": "pyout",
       "prompt_number": 29,
       "text": [
        "<matplotlib.axes.AxesSubplot at 0x53f6b7150>"
       ]
      },
      {
       "metadata": {},
       "output_type": "display_data",
       "png": "[encoded data removed]",
       "text": [
        "<matplotlib.figure.Figure at 0x5b5520bd0>"
       ]
      }
     ],
     "prompt_number": 29
    },
    {
     "cell_type": "code",
     "collapsed": false,
     "input": [
      "display(HTML('<h4>Plot of log counts of AGE_2 for sweden_1880_1900_men</h4>'))\n",
      "log_counts('sweden_1880_1900_men', 'AGE_2').plot()"
     ],
     "language": "python",
     "metadata": {},
     "outputs": [
      {
       "html": [
        "<h4>Plot of log counts of AGE_2 for sweden_1880_1900_men</h4>"
       ],
       "metadata": {},
       "output_type": "display_data",
       "text": [
        "<IPython.core.display.HTML at 0x5d979d650>"
       ]
      },
      {
       "metadata": {},
       "output_type": "pyout",
       "prompt_number": 30,
       "text": [
        "<matplotlib.axes.AxesSubplot at 0x53f566710>"
       ]
      },
      {
       "metadata": {},
       "output_type": "display_data",
       "png": "[encoded data removed]",
       "text": [
        "<matplotlib.figure.Figure at 0x5d979d6d0>"
       ]
      }
     ],
     "prompt_number": 30
    },
    {
     "cell_type": "code",
     "collapsed": false,
     "input": [
      "display(HTML('<h4>Plot of log counts of AGE_1 for sweden_1880_1900_women</h4>'))\n",
      "log_counts('sweden_1880_1900_women', 'AGE_1').plot()"
     ],
     "language": "python",
     "metadata": {},
     "outputs": [
      {
       "html": [
        "<h4>Plot of log counts of AGE_1 for sweden_1880_1900_women</h4>"
       ],
       "metadata": {},
       "output_type": "display_data",
       "text": [
        "<IPython.core.display.HTML at 0x55fbe8350>"
       ]
      },
      {
       "metadata": {},
       "output_type": "pyout",
       "prompt_number": 31,
       "text": [
        "<matplotlib.axes.AxesSubplot at 0x53a1ab590>"
       ]
      },
      {
       "metadata": {},
       "output_type": "display_data",
       "png": "[encoded data removed]",
       "text": [
        "<matplotlib.figure.Figure at 0x49994de90>"
       ]
      }
     ],
     "prompt_number": 31
    },
    {
     "cell_type": "code",
     "collapsed": false,
     "input": [
      "display(HTML('<h4>Plot of log counts of AGE_2 for sweden_1880_1900_women</h4>'))\n",
      "log_counts('sweden_1880_1900_women', 'AGE_2').plot()"
     ],
     "language": "python",
     "metadata": {},
     "outputs": [
      {
       "html": [
        "<h4>Plot of log counts of AGE_2 for sweden_1880_1900_women</h4>"
       ],
       "metadata": {},
       "output_type": "display_data",
       "text": [
        "<IPython.core.display.HTML at 0x4e911fed0>"
       ]
      },
      {
       "metadata": {},
       "output_type": "pyout",
       "prompt_number": 32,
       "text": [
        "<matplotlib.axes.AxesSubplot at 0x4d34c50d0>"
       ]
      },
      {
       "metadata": {},
       "output_type": "display_data",
       "png": "[encoded data removed]",
       "text": [
        "<matplotlib.figure.Figure at 0x498f12210>"
       ]
      }
     ],
     "prompt_number": 32
    },
    {
     "cell_type": "code",
     "collapsed": false,
     "input": [
      "display(HTML('<h4>Plot of log counts of AGE_1 for sweden_1890_1900_men</h4>'))\n",
      "log_counts('sweden_1890_1900_men', 'AGE_1').plot()"
     ],
     "language": "python",
     "metadata": {},
     "outputs": [
      {
       "html": [
        "<h4>Plot of log counts of AGE_1 for sweden_1890_1900_men</h4>"
       ],
       "metadata": {},
       "output_type": "display_data",
       "text": [
        "<IPython.core.display.HTML at 0x53a2dfa50>"
       ]
      },
      {
       "metadata": {},
       "output_type": "pyout",
       "prompt_number": 33,
       "text": [
        "<matplotlib.axes.AxesSubplot at 0x4adc4c650>"
       ]
      },
      {
       "metadata": {},
       "output_type": "display_data",
       "png": "[encoded data removed]",
       "text": [
        "<matplotlib.figure.Figure at 0x53a2df650>"
       ]
      }
     ],
     "prompt_number": 33
    },
    {
     "cell_type": "code",
     "collapsed": false,
     "input": [
      "display(HTML('<h4>Plot of log counts of AGE_2 for sweden_1890_1900_men</h4>'))\n",
      "log_counts('sweden_1890_1900_men', 'AGE_2').plot()"
     ],
     "language": "python",
     "metadata": {},
     "outputs": [
      {
       "html": [
        "<h4>Plot of log counts of AGE_2 for sweden_1890_1900_men</h4>"
       ],
       "metadata": {},
       "output_type": "display_data",
       "text": [
        "<IPython.core.display.HTML at 0x4d357e190>"
       ]
      },
      {
       "metadata": {},
       "output_type": "pyout",
       "prompt_number": 34,
       "text": [
        "<matplotlib.axes.AxesSubplot at 0x48c412350>"
       ]
      },
      {
       "metadata": {},
       "output_type": "display_data",
       "png": "[encoded data removed]",
       "text": [
        "<matplotlib.figure.Figure at 0x4d357ecd0>"
       ]
      }
     ],
     "prompt_number": 34
    },
    {
     "cell_type": "code",
     "collapsed": false,
     "input": [
      "display(HTML('<h4>Plot of log counts of AGE_1 for sweden_1890_1900_women</h4>'))\n",
      "log_counts('sweden_1890_1900_women', 'AGE_1').plot()"
     ],
     "language": "python",
     "metadata": {},
     "outputs": [
      {
       "html": [
        "<h4>Plot of log counts of AGE_1 for sweden_1890_1900_women</h4>"
       ],
       "metadata": {},
       "output_type": "display_data",
       "text": [
        "<IPython.core.display.HTML at 0x4d108b0d0>"
       ]
      },
      {
       "metadata": {},
       "output_type": "pyout",
       "prompt_number": 35,
       "text": [
        "<matplotlib.axes.AxesSubplot at 0x4d799d5d0>"
       ]
      },
      {
       "metadata": {},
       "output_type": "display_data",
       "png": "[encoded data removed]",
       "text": [
        "<matplotlib.figure.Figure at 0x498858dd0>"
       ]
      }
     ],
     "prompt_number": 35
    },
    {
     "cell_type": "code",
     "collapsed": false,
     "input": [
      "display(HTML('<h4>Plot of log counts of AGE_2 for sweden_1890_1900_women</h4>'))\n",
      "log_counts('sweden_1890_1900_women', 'AGE_2').plot()"
     ],
     "language": "python",
     "metadata": {},
     "outputs": [
      {
       "html": [
        "<h4>Plot of log counts of AGE_2 for sweden_1890_1900_women</h4>"
       ],
       "metadata": {},
       "output_type": "display_data",
       "text": [
        "<IPython.core.display.HTML at 0x48edeadd0>"
       ]
      },
      {
       "metadata": {},
       "output_type": "pyout",
       "prompt_number": 36,
       "text": [
        "<matplotlib.axes.AxesSubplot at 0x48e51e490>"
       ]
      },
      {
       "metadata": {},
       "output_type": "display_data",
       "png": "[encoded data removed]",
       "text": [
        "<matplotlib.figure.Figure at 0x4d1d63110>"
       ]
      }
     ],
     "prompt_number": 36
    },
    {
     "cell_type": "code",
     "collapsed": false,
     "input": [],
     "language": "python",
     "metadata": {},
     "outputs": []
    }
   ],
   "metadata": {}
  }
 ]
}